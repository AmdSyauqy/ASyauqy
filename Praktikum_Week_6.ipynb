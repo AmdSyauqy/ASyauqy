{
  "nbformat": 4,
  "nbformat_minor": 0,
  "metadata": {
    "colab": {
      "provenance": [],
      "authorship_tag": "ABX9TyPgYcz9Au70f6EusmZVB9FT",
      "include_colab_link": true
    },
    "kernelspec": {
      "name": "python3",
      "display_name": "Python 3"
    },
    "language_info": {
      "name": "python"
    }
  },
  "cells": [
    {
      "cell_type": "markdown",
      "metadata": {
        "id": "view-in-github",
        "colab_type": "text"
      },
      "source": [
        "<a href=\"https://colab.research.google.com/github/AmdSyauqy/ASyauqy/blob/main/Praktikum_Week_6.ipynb\" target=\"_parent\"><img src=\"https://colab.research.google.com/assets/colab-badge.svg\" alt=\"Open In Colab\"/></a>"
      ]
    },
    {
      "cell_type": "code",
      "execution_count": 25,
      "metadata": {
        "colab": {
          "base_uri": "https://localhost:8080/"
        },
        "id": "Uqg9Szs0yZVH",
        "outputId": "95cbce3d-7ea2-4da1-8459-68720c767505"
      },
      "outputs": [
        {
          "output_type": "stream",
          "name": "stdout",
          "text": [
            "input n : 5\n",
            "    *\n",
            "    *\n",
            "   *\n",
            "   *\n",
            "  *\n"
          ]
        }
      ],
      "source": [
        "n = int(input(\"input n : \"))\n",
        "for i in range(1,int (n) + 1 ):\n",
        "    for j in range(1,n - i + 1 ):\n",
        "        print(\" \",end=\"\")\n",
        "    for k in range(1, 2 * 1):\n",
        "        for k in range(1,i+1):\n",
        "          if k % 2 == 0:\n",
        "            print(\" \",end=\"\" )\n",
        "        else:\n",
        "          print(\"*\",end=\"\")\n",
        "    print()"
      ]
    },
    {
      "cell_type": "code",
      "source": [
        "n = int(input(\"Input baris: \",))\n",
        "for i in range(1, n + 1):\n",
        "    for j in range(1, n - i + 1):\n",
        "      print(\" \", end=\"\")\n",
        "    for k in range(1, 2 * i):\n",
        "      if k % 2 == 0:\n",
        "          print(\" \", end=\"\")\n",
        "      else:\n",
        "        print(\"*\", end=\"\")\n",
        "    print()"
      ],
      "metadata": {
        "colab": {
          "base_uri": "https://localhost:8080/"
        },
        "id": "QZJC5hIg-0Wn",
        "outputId": "05ecd436-b962-4669-d687-27b45992d599"
      },
      "execution_count": 27,
      "outputs": [
        {
          "output_type": "stream",
          "name": "stdout",
          "text": [
            "Input baris: 6\n",
            "     *\n",
            "    * *\n",
            "   * * *\n",
            "  * * * *\n",
            " * * * * *\n",
            "* * * * * *\n"
          ]
        }
      ]
    },
    {
      "cell_type": "code",
      "source": [
        "n = 5\n",
        "\n",
        "for i in range(1, n + 1):\n",
        "    for j in range(1, n - i + 1):\n",
        "      print(\" \", end=\"\")\n",
        "    for k in range(1, 2 * i):\n",
        "      if k % 2 == 0:\n",
        "          print(\" \", end=\"\")\n",
        "      else:\n",
        "        print(\"*\", end=\"\")\n",
        "    print()"
      ],
      "metadata": {
        "id": "y5bekj3tEh5P",
        "colab": {
          "base_uri": "https://localhost:8080/"
        },
        "outputId": "c8a6c741-f6e3-4b40-dbe7-8687baa931a6"
      },
      "execution_count": 1,
      "outputs": [
        {
          "output_type": "stream",
          "name": "stdout",
          "text": [
            "    *\n",
            "   * *\n",
            "  * * *\n",
            " * * * *\n",
            "* * * * *\n"
          ]
        }
      ]
    },
    {
      "cell_type": "code",
      "source": [
        "n = int(input(\"Input baris: \"))\n",
        "\n",
        "for i in range(n):\n",
        "  print(\" \" * (n - i - 1), end=\"\")\n",
        "  pucuk = 1\n",
        "  for j in range(i + 1):\n",
        "    print(pucuk, end=\"\")\n",
        "    pucuk = pucuk * (i - j) // (j + 1)\n",
        "    if j != i:\n",
        "      print(\" \", end=\"\")\n",
        "  print()\n"
      ],
      "metadata": {
        "colab": {
          "base_uri": "https://localhost:8080/"
        },
        "id": "uac0rwA0miCw",
        "outputId": "b9564e09-7a0c-4451-a087-40e28fbb7f92"
      },
      "execution_count": 42,
      "outputs": [
        {
          "output_type": "stream",
          "name": "stdout",
          "text": [
            "Input baris: 6\n",
            "     1\n",
            "    1 1\n",
            "   1 2 1\n",
            "  1 3 3 1\n",
            " 1 4 6 4 1\n",
            "1 5 10 10 5 1\n"
          ]
        }
      ]
    },
    {
      "cell_type": "code",
      "source": [
        "n = int(input(\"Input baris : \"))\n",
        "\n",
        "for i in range(n):\n",
        "    print(\" \" * (n - i - 1), end=\"\")\n",
        "    pucuk = 1\n",
        "    jumlah = 0\n",
        "    for j in range(i + 1):\n",
        "        print(pucuk, end=\"\")\n",
        "        jumlah += pucuk\n",
        "        pucuk = pucuk * (i - j) // (j + 1)\n",
        "        if j != i:\n",
        "          print(\" \", end=\"\")\n",
        "    print(f\"  jumlah: {jumlah}\")"
      ],
      "metadata": {
        "colab": {
          "base_uri": "https://localhost:8080/"
        },
        "id": "W85cYSSgo6Sg",
        "outputId": "fcf96c8d-3f78-436f-f4b6-909092a1cd59"
      },
      "execution_count": 22,
      "outputs": [
        {
          "output_type": "stream",
          "name": "stdout",
          "text": [
            "Input baris : 5\n",
            "    1 jumlah: 1\n",
            "   1 1 jumlah: 2\n",
            "  1 2 1 jumlah: 4\n",
            " 1 3 3 1 jumlah: 8\n",
            "1 4 6 4 1 jumlah: 16\n"
          ]
        }
      ]
    },
    {
      "cell_type": "code",
      "source": [
        "n = int(input(\"Input baris : \"))\n",
        "\n",
        "for i in range(n):\n",
        "    print(\" \" * (n-i-1), end=\"\")\n",
        "    pucuk = 1\n",
        "    jumlah = 0\n",
        "    for j in range(i+1):\n",
        "     print(pucuk, end=\"\")\n",
        "     jumlah += pucuk\n",
        "     pucuk = pucuk * (i-j) // (j+1)\n",
        "     if j != i:\n",
        "        print(\" \", end=\"\")\n",
        "    print(f\" jumlah: {jumlah}\")"
      ],
      "metadata": {
        "colab": {
          "base_uri": "https://localhost:8080/"
        },
        "id": "lZigsSEJvA4U",
        "outputId": "a1877d3c-a5e4-4eea-cc04-cb08e3b39c09"
      },
      "execution_count": 49,
      "outputs": [
        {
          "output_type": "stream",
          "name": "stdout",
          "text": [
            "Input baris : 6\n",
            "     1 jumlah: 1\n",
            "    1 1 jumlah: 2\n",
            "   1 2 1 jumlah: 4\n",
            "  1 3 3 1 jumlah: 8\n",
            " 1 4 6 4 1 jumlah: 16\n",
            "1 5 10 10 5 1 jumlah: 32\n"
          ]
        }
      ]
    }
  ]
}