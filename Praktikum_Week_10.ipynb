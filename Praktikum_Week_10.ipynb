{
  "nbformat": 4,
  "nbformat_minor": 0,
  "metadata": {
    "colab": {
      "provenance": [],
      "authorship_tag": "ABX9TyPKe7Drfz2fpFYF1auxRsL4",
      "include_colab_link": true
    },
    "kernelspec": {
      "name": "python3",
      "display_name": "Python 3"
    },
    "language_info": {
      "name": "python"
    }
  },
  "cells": [
    {
      "cell_type": "markdown",
      "metadata": {
        "id": "view-in-github",
        "colab_type": "text"
      },
      "source": [
        "<a href=\"https://colab.research.google.com/github/AmdSyauqy/ASyauqy/blob/main/Praktikum_Week_10.ipynb\" target=\"_parent\"><img src=\"https://colab.research.google.com/assets/colab-badge.svg\" alt=\"Open In Colab\"/></a>"
      ]
    },
    {
      "cell_type": "code",
      "source": [
        "n = int(input(\"Masukkan bilangan bulat non-negatif: \"))\n",
        "\n",
        "def faktorial(n):\n",
        "  if n == 0:\n",
        "    return 1\n",
        "  else:\n",
        "    return n * faktorial(n-1)\n",
        "\n",
        "print(\"Nilai faktorial dari bilangan tersebut adalah : \" , faktorial(n))"
      ],
      "metadata": {
        "colab": {
          "base_uri": "https://localhost:8080/"
        },
        "id": "flc3CDDbOXdO",
        "outputId": "965d8efa-daa3-48d0-df40-3d1083617016"
      },
      "execution_count": null,
      "outputs": [
        {
          "output_type": "stream",
          "name": "stdout",
          "text": [
            "Masukkan bilangan bulat non-negatif: 6\n",
            "Nilai faktorial dari bilangan tersebut adalah :  720\n"
          ]
        }
      ]
    },
    {
      "cell_type": "code",
      "source": [
        "def lingkaran():\n",
        "  pi = 3.14\n",
        "  r = float(input(\"Masukkan jari-jari lingkaran: \"))\n",
        "  luas = pi * (r**2)\n",
        "  return luas\n",
        "\n",
        "print(lingkaran())\n",
        "\n",
        "def persegi():\n",
        "  sisi = float(input(\"Masukkan panjang sisi persegi: \"))\n",
        "  luas = sisi * sisi\n",
        "  return luas\n",
        "\n",
        "print(persegi())\n",
        "\n",
        "def segitiga():\n",
        "  alas = float(input(\"Masukkan panjang alas segitiga: \"))\n",
        "  tinggi = float(input(\"Masukkan tinggi segitiga: \"))\n",
        "  luas = 0.5 * alas * tinggi\n",
        "  return luas\n",
        "\n",
        "print(segitiga())"
      ],
      "metadata": {
        "colab": {
          "base_uri": "https://localhost:8080/"
        },
        "id": "ajg8KQxWE4yw",
        "outputId": "5d7dc01a-c177-4eab-93dd-3a5d3e8ed459"
      },
      "execution_count": null,
      "outputs": [
        {
          "output_type": "stream",
          "name": "stdout",
          "text": [
            "Masukkan jari-jari lingkaran: 6\n",
            "113.04\n",
            "Masukkan panjang sisi persegi: 8\n",
            "64.0\n",
            "Masukkan panjang alas segitiga: 6\n",
            "Masukkan tinggi segitiga: 5\n",
            "15.0\n"
          ]
        }
      ]
    },
    {
      "cell_type": "code",
      "source": [
        "def lingkaran():\n",
        "    pi = 3.14\n",
        "    r = float(input(\"Masukkan jari-jari lingkaran: \"))\n",
        "    luas = pi * (r**2)\n",
        "    return luas\n",
        "\n",
        "def persegi():\n",
        "    sisi = float(input(\"Masukkan panjang sisi persegi: \"))\n",
        "    luas = sisi * sisi\n",
        "    return luas\n",
        "\n",
        "def segitiga():\n",
        "    alas = float(input(\"Masukkan panjang alas segitiga: \"))\n",
        "    tinggi = float(input(\"Masukkan tinggi segitiga: \"))\n",
        "    luas = 0.5 * alas * tinggi\n",
        "    return luas\n",
        "\n",
        "def menu():\n",
        "    print(\"Pilih bangun datar untuk menghitung luas:\")\n",
        "    print(\"1. Lingkaran\")\n",
        "    print(\"2. Persegi\")\n",
        "    print(\"3. Segitiga\")\n",
        "    print(\"4. Keluar\")\n",
        "\n",
        "while True:\n",
        "    menu()\n",
        "    pilihan = input(\"Masukkan pilihan (1/2/3/4): \")\n",
        "\n",
        "    if pilihan == '1':\n",
        "        print(f\"Luas Lingkaran: {lingkaran()}\")\n",
        "    elif pilihan == '2':\n",
        "        print(f\"Luas Persegi: {persegi()}\")\n",
        "    elif pilihan == '3':\n",
        "        print(f\"Luas Segitiga: {segitiga()}\")\n",
        "    elif pilihan == '4':\n",
        "        print(\"Terima kasih! Program dihentikan.\")\n",
        "        break\n",
        "    else:\n",
        "        print(\"Pilihan tidak valid. Silakan coba lagi.\")\n"
      ],
      "metadata": {
        "colab": {
          "base_uri": "https://localhost:8080/"
        },
        "id": "sXSuyXOyKdoJ",
        "outputId": "fe0e33aa-0157-4c6e-bd82-2c8dbdaff6cb"
      },
      "execution_count": null,
      "outputs": [
        {
          "output_type": "stream",
          "name": "stdout",
          "text": [
            "Pilih bangun datar untuk menghitung luas:\n",
            "1. Lingkaran\n",
            "2. Persegi\n",
            "3. Segitiga\n",
            "4. Keluar\n",
            "Masukkan pilihan (1/2/3/4): 5\n",
            "Pilihan tidak valid. Silakan coba lagi.\n",
            "Pilih bangun datar untuk menghitung luas:\n",
            "1. Lingkaran\n",
            "2. Persegi\n",
            "3. Segitiga\n",
            "4. Keluar\n",
            "Masukkan pilihan (1/2/3/4): 4\n",
            "Terima kasih! Program dihentikan.\n"
          ]
        }
      ]
    }
  ]
}