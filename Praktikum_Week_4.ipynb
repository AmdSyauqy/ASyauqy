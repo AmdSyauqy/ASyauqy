{
  "nbformat": 4,
  "nbformat_minor": 0,
  "metadata": {
    "colab": {
      "provenance": [],
      "authorship_tag": "ABX9TyMlQBwHYh58psAULtnRARve",
      "include_colab_link": true
    },
    "kernelspec": {
      "name": "python3",
      "display_name": "Python 3"
    },
    "language_info": {
      "name": "python"
    }
  },
  "cells": [
    {
      "cell_type": "markdown",
      "metadata": {
        "id": "view-in-github",
        "colab_type": "text"
      },
      "source": [
        "<a href=\"https://colab.research.google.com/github/AmdSyauqy/ASyauqy/blob/main/Praktikum_Week_4.ipynb\" target=\"_parent\"><img src=\"https://colab.research.google.com/assets/colab-badge.svg\" alt=\"Open In Colab\"/></a>"
      ]
    },
    {
      "cell_type": "code",
      "execution_count": null,
      "metadata": {
        "colab": {
          "base_uri": "https://localhost:8080/"
        },
        "id": "YoopJD-eu5rC",
        "outputId": "81820764-4ab7-40e6-a610-82343061d665"
      },
      "outputs": [
        {
          "output_type": "stream",
          "name": "stdout",
          "text": [
            "Umur :189\n",
            "Boleh membuat SIM\n"
          ]
        }
      ],
      "source": [
        "Umur = int(input(\"Umur :\"))\n",
        "if Umur >= 17 :\n",
        "  print(\"Boleh membuat SIM\")\n",
        "else:\n",
        "  print(\"Tidak boleh membuat SIM\")\n"
      ]
    },
    {
      "cell_type": "code",
      "source": [
        "Nilai = int(input(\"Nilai : \"))\n",
        "if Nilai >= 90 :\n",
        "  print(\"A\")\n",
        "elif Nilai >= 80 :\n",
        "  print(\"B+\")\n",
        "elif Nilai >= 70 :\n",
        "  print(\"B\")\n",
        "elif Nilai >= 60 :\n",
        "  print(\"C+\")\n",
        "elif Nilai >= 50 :\n",
        "  print(\"C\")\n",
        "elif Nilai >= 40 :\n",
        "  print(\"D\")\n",
        "elif Nilai < 40 :\n",
        "  print(\"E\")\n",
        "else:\n",
        "  print(\"Tidak ada\")"
      ],
      "metadata": {
        "colab": {
          "base_uri": "https://localhost:8080/"
        },
        "id": "sxEpyu-bwRGC",
        "outputId": "c252253e-329a-403d-ecf8-c0b710385c86"
      },
      "execution_count": 3,
      "outputs": [
        {
          "output_type": "stream",
          "name": "stdout",
          "text": [
            "Nilai : 92\n",
            "A\n"
          ]
        }
      ]
    },
    {
      "cell_type": "code",
      "source": [
        "Nilai = float(input(\"Nilai : \"))\n",
        "if 80.00 <= Nilai <= 100 :\n",
        "  print(\"A\")\n",
        "elif 77.50 <= Nilai <= 79.99 :\n",
        "  print(\"A-\")\n",
        "elif 75.00 <= Nilai <= 76.99 :\n",
        "  print(\"A/B\")\n",
        "elif 72.50 <= Nilai <= 74.99 :\n",
        "  print(\"B+\")\n",
        "elif 70.00 <= Nilai <= 74.99 :\n",
        "  print(\"B\")\n",
        "elif 67.50 <= Nilai <= 69.99 :\n",
        "  print(\"B-\")\n",
        "elif 65.00 <= Nilai <= 66.99 :\n",
        "  print(\"B/C\")\n",
        "elif 62.50 <= Nilai <= 64.99 :\n",
        "  print(\"C+\")\n",
        "elif 60.00 <= Nilai <= 61.99 :\n",
        "  print(\"C\")\n",
        "elif 55.00 <= Nilai <= 59.99 :\n",
        "  print(\"C-\")\n",
        "elif 50.00 <= Nilai <= 54.99 :\n",
        "  print(\"C/D\")\n",
        "elif 45.00 <= Nilai <= 49.99 :\n",
        "  print(\"D+\")\n",
        "elif 40.00 <= Nilai <= 44.99 :\n",
        "  print(\"D\")\n",
        "elif Nilai < 40.00 :\n",
        "  print(\"E\")\n",
        "else:\n",
        "  print(\"Tidak ada\")"
      ],
      "metadata": {
        "colab": {
          "base_uri": "https://localhost:8080/"
        },
        "id": "UP3ro3g7xOeS",
        "outputId": "19fe1a61-72f3-4451-edb9-3abbb83c1d5f"
      },
      "execution_count": null,
      "outputs": [
        {
          "output_type": "stream",
          "name": "stdout",
          "text": [
            "Nilai : 101\n",
            "Tidak ada\n"
          ]
        }
      ]
    }
  ]
}