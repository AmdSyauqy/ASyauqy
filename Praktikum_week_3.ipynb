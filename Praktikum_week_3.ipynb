{
  "nbformat": 4,
  "nbformat_minor": 0,
  "metadata": {
    "colab": {
      "provenance": [],
      "authorship_tag": "ABX9TyPy9LQzFvP+kr/b1/1kw19w",
      "include_colab_link": true
    },
    "kernelspec": {
      "name": "python3",
      "display_name": "Python 3"
    },
    "language_info": {
      "name": "python"
    }
  },
  "cells": [
    {
      "cell_type": "markdown",
      "metadata": {
        "id": "view-in-github",
        "colab_type": "text"
      },
      "source": [
        "<a href=\"https://colab.research.google.com/github/AmdSyauqy/ASyauqy/blob/main/Praktikum_week_3.ipynb\" target=\"_parent\"><img src=\"https://colab.research.google.com/assets/colab-badge.svg\" alt=\"Open In Colab\"/></a>"
      ]
    },
    {
      "cell_type": "code",
      "execution_count": 3,
      "metadata": {
        "colab": {
          "base_uri": "https://localhost:8080/"
        },
        "id": "uWDOwKHptjFt",
        "outputId": "1655532c-03f1-4624-da8b-ed6babd1757f"
      },
      "outputs": [
        {
          "output_type": "stream",
          "name": "stdout",
          "text": [
            "Selamat datang di Toko Maju Jaya\n",
            "Senin, 4 September 2023       13.05\n",
            " \n",
            "DAFTAR BELANJA:\n",
            "Sabun= Rp 10000\n",
            "shampo= Rp 15000\n",
            "Mie instant= Rp 5000\n",
            "Detergen= Rp 17500\n",
            " \n",
            "Total = Rp 47500\n"
          ]
        }
      ],
      "source": [
        "print (\"Selamat datang di Toko Maju Jaya\")\n",
        "print (\"Senin, 4 September 2023       13.05\")\n",
        "print (\" \")\n",
        "\n",
        "print (\"DAFTAR BELANJA:\")\n",
        "item1 = \"Sabun\"\n",
        "item2 = \"shampo\"\n",
        "item3 = \"Mie instant\"\n",
        "item4 = \"Detergen\"\n",
        "harga1 = 10000\n",
        "harga2 = 15000\n",
        "harga3 = 5000\n",
        "harga4 = 17500\n",
        "\n",
        "total = harga1 + harga2 + harga3 + harga4\n",
        "\n",
        "print(item1 + \"= Rp \" + str(harga1))\n",
        "print(item2 + \"= Rp \" + str(harga2))\n",
        "print(item3 + \"= Rp \" + str(harga3))\n",
        "print(item4 + \"= Rp \" + str(harga4))\n",
        "\n",
        "print(\" \")\n",
        "print(\"Total = Rp \"+ str(total))\n",
        "\n",
        "with open('Kuitansi.txt', 'w') as writefile:\n",
        "        writefile.write(\"Selamat Datang di Toko Maju Jaya,\\n\")\n",
        "        writefile.write(\" \\n\")\n",
        "        writefile.write(\"Kuitansi - 4 Septermber 2023\\n\")\n",
        "        writefile.write(\" \\n\")\n",
        "        writefile.write(item1 + \"= Rp \" + str(harga1) + \"\\n\")\n",
        "        writefile.write(item2 + \"= Rp \" + str(harga2) + \"\\n\")\n",
        "        writefile.write(item3 + \"= Rp \" + str(harga3) + \"\\n\")\n",
        "        writefile.write(item4 + \"= Rp \" + str(harga4) + \"\\n\")\n",
        "        writefile.write(\" \\n\")\n",
        "        writefile.write(\"Total Belanja = Rp \" + str(total))\n",
        "\n"
      ]
    },
    {
      "cell_type": "code",
      "source": [
        "with open('Kuitansi.txt', 'r') as readfile:\n",
        "    print(readfile.read())"
      ],
      "metadata": {
        "colab": {
          "base_uri": "https://localhost:8080/"
        },
        "id": "pwuXS-lXGYZe",
        "outputId": "ff3b4706-bc23-4ee9-a817-5ae8fa53ef95"
      },
      "execution_count": 26,
      "outputs": [
        {
          "output_type": "stream",
          "name": "stdout",
          "text": [
            "Selamat Datang di Toko Maju Jaya,\n",
            " \n",
            "Kuitansi - 4 Septermber 2023\n",
            " \n",
            "Sabun= Rp 10000\n",
            "shampo= Rp 15000\n",
            "Mie instant= Rp 5000\n",
            "Detergen= Rp 17500\n",
            " \n",
            "Total Belanja = Rp 47500\n"
          ]
        }
      ]
    },
    {
      "cell_type": "code",
      "source": [
        "with open('Kuitansi.txt', 'w') as writefile:\n",
        "        writefile.write(\"Selamat Datang di Toko Maju Jaya,\\n\")\n",
        "        writefile.write(\" \\n\")\n",
        "        writefile.write(\"Kuitansi - 4 Septermber 2023\\n\")\n",
        "        writefile.write(\" \\n\")\n",
        "        writefile.write(\"{item1} = Rp {harga1}\\n\")\n",
        "        writefile.write(\"{item2} = Rp {harga2}\\n\")\n",
        "        writefile.write(\"{item3} = Rp {harga3}\\n\")\n",
        "        writefile.write(\"{item4} = Rp {harga4}\\n\")\n",
        "        writefile.write(\" \\n\")\n",
        "        writefile.write(\"Total Belanja = {total}\")"
      ],
      "metadata": {
        "id": "brKs5MD2F5Tf"
      },
      "execution_count": null,
      "outputs": []
    },
    {
      "cell_type": "code",
      "source": [
        "with open('ahmad.txt', 'w') as writefile:\n",
        "        writefile.write(\"Nama   : Ahmad Syauqy Wardani \\n\")\n",
        "        writefile.write(\"Prodi  : Teknologi Informasi \\n\")\n",
        "        writefile.write(\"NPM    : 2440506051 \\n\")\n",
        "        writefile.write(\"Alamat : Potrobangsan \\n\")\n",
        "        writefile.write(\"Hobi   : Bemain Gitar \\n\")\n",
        "        writefile.write(\"Email  : ahmadsyauqy007@gmail.com\")"
      ],
      "metadata": {
        "id": "pgth1RI2JeBL"
      },
      "execution_count": 4,
      "outputs": []
    },
    {
      "cell_type": "code",
      "source": [
        "with open('ahmad.txt', 'r') as readfile:\n",
        "    c = readfile.readlines()\n",
        "    print(c[0])\n",
        "    print(c[1])\n",
        "    print(c[5])"
      ],
      "metadata": {
        "id": "ag1gIU4D4PDh",
        "colab": {
          "base_uri": "https://localhost:8080/"
        },
        "outputId": "7a4abe7e-6826-4e46-c544-e9f77b3ccfe9"
      },
      "execution_count": 12,
      "outputs": [
        {
          "output_type": "stream",
          "name": "stdout",
          "text": [
            "Nama   : Ahmad Syauqy Wardani \n",
            "\n",
            "Prodi  : Teknologi Informasi \n",
            "\n",
            "Email  : ahmadsyauqy007@gmail.com\n"
          ]
        }
      ]
    },
    {
      "cell_type": "code",
      "source": [
        "with open('ahmads.txt', 'w') as writefile:\n",
        "        writefile.write(c[0])\n",
        "        writefile.write(c[2])\n",
        "        writefile.write(c[1])\n",
        "        writefile.write(c[3])"
      ],
      "metadata": {
        "id": "x-eR5cGK_sFJ"
      },
      "execution_count": 13,
      "outputs": []
    },
    {
      "cell_type": "code",
      "source": [
        "with open('ahmads.txt', 'r') as writefile:\n",
        "        print(c[0])\n",
        "        print(c[2])\n",
        "        print(c[1])\n",
        "        print(c[3])"
      ],
      "metadata": {
        "colab": {
          "base_uri": "https://localhost:8080/"
        },
        "id": "k9tqL14ZAE_t",
        "outputId": "c7aeff4b-2ef1-4ce3-cb36-32c64ceaa34a"
      },
      "execution_count": 14,
      "outputs": [
        {
          "output_type": "stream",
          "name": "stdout",
          "text": [
            "Nama   : Ahmad Syauqy Wardani \n",
            "\n",
            "NPM    : 2440506051 \n",
            "\n",
            "Prodi  : Teknologi Informasi \n",
            "\n",
            "Alamat : Potrobangsan \n",
            "\n"
          ]
        }
      ]
    },
    {
      "cell_type": "code",
      "source": [],
      "metadata": {
        "id": "5-A44u9ZACWy"
      },
      "execution_count": null,
      "outputs": []
    }
  ]
}