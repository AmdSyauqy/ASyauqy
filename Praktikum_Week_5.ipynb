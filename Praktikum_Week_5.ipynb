{
  "nbformat": 4,
  "nbformat_minor": 0,
  "metadata": {
    "colab": {
      "provenance": [],
      "authorship_tag": "ABX9TyNG3C4f2gHhUUfPHXtYY+bD",
      "include_colab_link": true
    },
    "kernelspec": {
      "name": "python3",
      "display_name": "Python 3"
    },
    "language_info": {
      "name": "python"
    }
  },
  "cells": [
    {
      "cell_type": "markdown",
      "metadata": {
        "id": "view-in-github",
        "colab_type": "text"
      },
      "source": [
        "<a href=\"https://colab.research.google.com/github/AmdSyauqy/ASyauqy/blob/main/Praktikum_Week_5.ipynb\" target=\"_parent\"><img src=\"https://colab.research.google.com/assets/colab-badge.svg\" alt=\"Open In Colab\"/></a>"
      ]
    },
    {
      "cell_type": "code",
      "execution_count": 1,
      "metadata": {
        "colab": {
          "base_uri": "https://localhost:8080/"
        },
        "id": "pYkb6hQFx0se",
        "outputId": "14bd04d2-6b70-4e8e-95dd-2e9fa9579062"
      },
      "outputs": [
        {
          "output_type": "stream",
          "name": "stdout",
          "text": [
            "tahun : 1900\n",
            "bukan tahun kabisat\n"
          ]
        }
      ],
      "source": [
        "tahun = int(input(\"tahun : \"))\n",
        "if tahun % 4 == 0:\n",
        "    if tahun % 100 == 0:\n",
        "        if tahun % 400 == 0:\n",
        "            print(\"tahun kabisat\")\n",
        "        else:\n",
        "            print(\"bukan tahun kabisat\")\n",
        "    else :\n",
        "        print(\"tahun kabisat\")\n",
        "else :\n",
        "    print(\"bukan tahun kabisat\")"
      ]
    },
    {
      "cell_type": "code",
      "source": [
        "angka_pertama = int(input(\"angka pertama : \"))\n",
        "angka_kedua = int(input(\"angka kedua : \"))\n",
        "angka_ketiga = int(input(\"angka ketiga : \"))\n",
        "if angka_pertama > angka_kedua and angka_pertama > angka_ketiga:\n",
        "    print(angka_pertama)\n",
        "elif angka_kedua > angka_pertama and angka_kedua > angka_ketiga:\n",
        "    print(angka_kedua)\n",
        "elif angka_ketiga > angka_pertama and angka_ketiga > angka_kedua:\n",
        "    print(angka_ketiga)\n",
        "else:\n",
        "    print(\"semua angka sama besar\")"
      ],
      "metadata": {
        "colab": {
          "base_uri": "https://localhost:8080/"
        },
        "id": "sI8cjbPD0CbP",
        "outputId": "7fcf3891-533a-402f-e69f-b70d595db649"
      },
      "execution_count": 14,
      "outputs": [
        {
          "output_type": "stream",
          "name": "stdout",
          "text": [
            "angka pertama : 1\n",
            "angka kedua : 4\n",
            "angka ketiga : 2\n",
            "4\n"
          ]
        }
      ]
    },
    {
      "cell_type": "code",
      "source": [
        "total_belanja = int(input(\"total belanja : \"))\n",
        "status = str(input(\"status : \"))\n",
        "if total_belanja > 200000 and status == \"member\":\n",
        "    print(\"dapat diskon 6%\")\n",
        "    print(\"total belanja : \", total_belanja - (total_belanja * 0.06))\n",
        "elif total_belanja > 200000 and status != \"member\":\n",
        "    print(\"dapat diskon 4%\")\n",
        "    print(\"total belanja : \", total_belanja - (total_belanja * 0.04))\n",
        "else :\n",
        "    if total_belanja > 100000 and status == \"member\":\n",
        "        print(\"dapat diskon 5%\")\n",
        "        print(\"total belanja : \", total_belanja - (total_belanja * 0.05))\n",
        "    elif total_belanja > 100000 and status != \"member\":\n",
        "        print(\"dapat diskon 3%\")\n",
        "        print(\"total belanja : \", total_belanja - (total_belanja * 0.03))\n",
        "    else:\n",
        "        print(\"tidak dapat diskon\")\n",
        "        print(\"total belanja : \", total_belanja)"
      ],
      "metadata": {
        "colab": {
          "base_uri": "https://localhost:8080/"
        },
        "id": "icyCL03-2s-H",
        "outputId": "92da91df-350b-4b6e-db0a-d06f1c275456"
      },
      "execution_count": 3,
      "outputs": [
        {
          "output_type": "stream",
          "name": "stdout",
          "text": [
            "total belanja : 5000000\n",
            "status : member\n",
            "dapat diskon 6%\n",
            "total belanja :  4700000.0\n"
          ]
        }
      ]
    },
    {
      "cell_type": "code",
      "source": [
        "username = (input(\"username : \"))\n",
        "email = (input(\"email : \"))\n",
        "password = (input(\"password : \"))\n",
        "if username == \"\" :\n",
        "  print(\"Username tidak boleh kosong\")\n",
        "elif \"@\" not in email :\n",
        "  print(\"Email tidak valid\")\n",
        "elif len(password) < 9 :\n",
        "  print(\"Password harus lebih dari 8 karakter\")\n",
        "else :\n",
        "  print(\"akun berhasil dibuat\")"
      ],
      "metadata": {
        "colab": {
          "base_uri": "https://localhost:8080/"
        },
        "id": "vQPkEpr49Z-O",
        "outputId": "984914c3-9eea-43ae-c403-87734477f7c1"
      },
      "execution_count": 10,
      "outputs": [
        {
          "output_type": "stream",
          "name": "stdout",
          "text": [
            "username : AmdSyauqy\n",
            "email : ahmadsyauqyw@students.untidar.ac.id\n",
            "password : admin12345\n",
            "akun berhasil dibuat\n"
          ]
        }
      ]
    },
    {
      "cell_type": "code",
      "source": [
        "angka = int and float(input(\"angka : \"))\n",
        "if angka == int:\n",
        "    if angka > 0:\n",
        "        print(\"bilangan positif\")\n",
        "        if angka // 2 == 0:\n",
        "            print(\"angka yang dimasukan adalah bilangan genap\")\n",
        "        else:\n",
        "            print(\"angka yang dimasukan adalah bilangan ganjil\")\n",
        "    else:\n",
        "      if angka < 0:\n",
        "        print(\"bilangan negatif\")\n",
        "      else:\n",
        "        print(\"nol\")\n",
        "else:\n",
        "    print(\"angka yang dimasukan bukan bilangan bulat\")"
      ],
      "metadata": {
        "colab": {
          "base_uri": "https://localhost:8080/"
        },
        "id": "Aj3wous--KKP",
        "outputId": "4b514ffc-46ff-4fb5-c292-a2a861ac4ffa"
      },
      "execution_count": null,
      "outputs": [
        {
          "output_type": "stream",
          "name": "stdout",
          "text": [
            "angka : 8,9\n",
            "angka yang dimasukan bukan bilangan bulat\n"
          ]
        }
      ]
    }
  ]
}