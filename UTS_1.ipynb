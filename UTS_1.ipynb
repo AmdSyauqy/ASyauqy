{
  "nbformat": 4,
  "nbformat_minor": 0,
  "metadata": {
    "colab": {
      "provenance": [],
      "authorship_tag": "ABX9TyM6l8AkOw5niXudQP6YcXKX",
      "include_colab_link": true
    },
    "kernelspec": {
      "name": "python3",
      "display_name": "Python 3"
    },
    "language_info": {
      "name": "python"
    }
  },
  "cells": [
    {
      "cell_type": "markdown",
      "metadata": {
        "id": "view-in-github",
        "colab_type": "text"
      },
      "source": [
        "<a href=\"https://colab.research.google.com/github/AmdSyauqy/ASyauqy/blob/main/UTS_1.ipynb\" target=\"_parent\"><img src=\"https://colab.research.google.com/assets/colab-badge.svg\" alt=\"Open In Colab\"/></a>"
      ]
    },
    {
      "cell_type": "code",
      "source": [
        "n = int(input(\"Input baris: \"))\n",
        "\n",
        "for i in range(n + 1):\n",
        "  awal = i\n",
        "  for j in range(i):\n",
        "    print(awal, end=\"\")\n",
        "    awal += i\n",
        "    if j != i:\n",
        "      print(\" \", end=\"\")\n",
        "  print()"
      ],
      "metadata": {
        "colab": {
          "base_uri": "https://localhost:8080/"
        },
        "id": "o-YDTl9eGfRG",
        "outputId": "1dfe9406-fd41-4af5-daae-e5a15248ad2c"
      },
      "execution_count": null,
      "outputs": [
        {
          "output_type": "stream",
          "name": "stdout",
          "text": [
            "Input baris: 10\n",
            "\n",
            "1 \n",
            "2 4 \n",
            "3 6 9 \n",
            "4 8 12 16 \n",
            "5 10 15 20 25 \n",
            "6 12 18 24 30 36 \n",
            "7 14 21 28 35 42 49 \n",
            "8 16 24 32 40 48 56 64 \n",
            "9 18 27 36 45 54 63 72 81 \n",
            "10 20 30 40 50 60 70 80 90 100 \n"
          ]
        }
      ]
    },
    {
      "cell_type": "code",
      "source": [
        "n = (input(\"Masukan NPM Anda: \"))\n",
        "genap = 0\n",
        "ganjil = 0\n",
        "\n",
        "for digit in n:\n",
        "  if digit.isdigit():\n",
        "    angka = int(digit)\n",
        "    if angka % 2 == 0:\n",
        "      genap += 1\n",
        "    else:\n",
        "      ganjil += 1\n",
        "\n",
        "\n",
        "print(f\"Jumlah bilangan genap :   {genap}\")\n",
        "print(f\"Jumlah bilangan ganjil :   {ganjil}\")"
      ],
      "metadata": {
        "colab": {
          "base_uri": "https://localhost:8080/"
        },
        "id": "O5ICVpPAsxIh",
        "outputId": "dce901ee-3b77-4eee-942c-652e1597f9ff"
      },
      "execution_count": 3,
      "outputs": [
        {
          "output_type": "stream",
          "name": "stdout",
          "text": [
            "Masukan NPM Anda: 2440506051\n",
            "Jumlah bilangan genap :   7\n",
            "Jumlah bilangan ganjil :   3\n"
          ]
        }
      ]
    },
    {
      "cell_type": "code",
      "source": [],
      "metadata": {
        "id": "uvtzZvvJsxLf"
      },
      "execution_count": null,
      "outputs": []
    },
    {
      "cell_type": "code",
      "execution_count": null,
      "metadata": {
        "id": "EOGSKfxuBm2s"
      },
      "outputs": [],
      "source": []
    }
  ]
}