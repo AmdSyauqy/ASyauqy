{
  "nbformat": 4,
  "nbformat_minor": 0,
  "metadata": {
    "colab": {
      "provenance": [],
      "authorship_tag": "ABX9TyO2nvifGy58qPD40nzEeQeV",
      "include_colab_link": true
    },
    "kernelspec": {
      "name": "python3",
      "display_name": "Python 3"
    },
    "language_info": {
      "name": "python"
    }
  },
  "cells": [
    {
      "cell_type": "markdown",
      "metadata": {
        "id": "view-in-github",
        "colab_type": "text"
      },
      "source": [
        "<a href=\"https://colab.research.google.com/github/AmdSyauqy/ASyauqy/blob/main/Praktikum_Week_13.ipynb\" target=\"_parent\"><img src=\"https://colab.research.google.com/assets/colab-badge.svg\" alt=\"Open In Colab\"/></a>"
      ]
    },
    {
      "cell_type": "code",
      "execution_count": 1,
      "metadata": {
        "colab": {
          "base_uri": "https://localhost:8080/"
        },
        "id": "9cd948QNQEKS",
        "outputId": "e7910deb-61a8-4039-bbf7-0ddd4d4ceb1a"
      },
      "outputs": [
        {
          "output_type": "stream",
          "name": "stdout",
          "text": [
            "Nama: Bolpoint, Stok: 10, Harga Satuan: 2000, Harga Total: 20000\n",
            "Nama: Pensil, Stok: 10, Harga Satuan: 1000, Harga Total: 10000\n",
            "Nama: Penghapus, Stok: 10, Harga Satuan: 500, Harga Total: 5000\n",
            "Total Harga Transaksi: Rp. 35000\n"
          ]
        }
      ],
      "source": [
        "class AlatTulis:\n",
        "    def __init__(self, nama, stok, harga_satuan):\n",
        "        self.nama = nama\n",
        "        self.stok = stok\n",
        "        self.harga_satuan = harga_satuan\n",
        "        self.harga_total = self.stok * self.harga_satuan\n",
        "\n",
        "    def set_nama(self, nama):\n",
        "        self.nama = nama\n",
        "\n",
        "    def get_nama(self):\n",
        "        return self.nama\n",
        "\n",
        "    def set_stok(self, stok):\n",
        "        self.stok = stok\n",
        "        self.harga_total = self.stok * self.harga_satuan\n",
        "\n",
        "    def get_stok(self):\n",
        "        return self.stok\n",
        "\n",
        "    def set_harga_satuan(self, harga_satuan):\n",
        "        self.harga_satuan = harga_satuan\n",
        "        self.harga_total = self.stok * self.harga_satuan\n",
        "\n",
        "    def get_harga_satuan(self):\n",
        "        return self.harga_satuan\n",
        "\n",
        "    def get_harga_total(self):\n",
        "        return self.harga_total\n",
        "\n",
        "class Transaksi:\n",
        "    def __init__(self):\n",
        "        self.total_harga = 0\n",
        "\n",
        "    def tambah_transaksi(self, alat_tulis):\n",
        "        self.total_harga += alat_tulis.get_harga_total()\n",
        "\n",
        "    def get_total_harga(self):\n",
        "        return self.total_harga\n",
        "\n",
        "bolpoint = AlatTulis(\"Bolpoint\", 10, 2000)\n",
        "pensil = AlatTulis(\"Pensil\", 10, 1000)\n",
        "penghapus = AlatTulis(\"Penghapus\", 10, 500)\n",
        "\n",
        "transaksi = Transaksi()\n",
        "\n",
        "transaksi.tambah_transaksi(bolpoint)\n",
        "transaksi.tambah_transaksi(pensil)\n",
        "transaksi.tambah_transaksi(penghapus)\n",
        "\n",
        "print(f\"Nama: {bolpoint.get_nama()}, Stok: {bolpoint.get_stok()}, Harga Satuan: {bolpoint.get_harga_satuan()}, Harga Total: {bolpoint.get_harga_total()}\")\n",
        "print(f\"Nama: {pensil.get_nama()}, Stok: {pensil.get_stok()}, Harga Satuan: {pensil.get_harga_satuan()}, Harga Total: {pensil.get_harga_total()}\")\n",
        "print(f\"Nama: {penghapus.get_nama()}, Stok: {penghapus.get_stok()}, Harga Satuan: {penghapus.get_harga_satuan()}, Harga Total: {penghapus.get_harga_total()}\")\n",
        "print(f\"Total Harga Transaksi: Rp. {transaksi.get_total_harga()}\")"
      ]
    }
  ]
}