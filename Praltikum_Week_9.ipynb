{
  "nbformat": 4,
  "nbformat_minor": 0,
  "metadata": {
    "colab": {
      "provenance": [],
      "authorship_tag": "ABX9TyPaS+9lW4SKxSXvO4UbmIht",
      "include_colab_link": true
    },
    "kernelspec": {
      "name": "python3",
      "display_name": "Python 3"
    },
    "language_info": {
      "name": "python"
    }
  },
  "cells": [
    {
      "cell_type": "markdown",
      "metadata": {
        "id": "view-in-github",
        "colab_type": "text"
      },
      "source": [
        "<a href=\"https://colab.research.google.com/github/AmdSyauqy/ASyauqy/blob/main/Praltikum_Week_9.ipynb\" target=\"_parent\"><img src=\"https://colab.research.google.com/assets/colab-badge.svg\" alt=\"Open In Colab\"/></a>"
      ]
    },
    {
      "cell_type": "code",
      "execution_count": null,
      "metadata": {
        "colab": {
          "base_uri": "https://localhost:8080/"
        },
        "id": "cx_jjdUrADYc",
        "outputId": "5e49ac08-037f-4e3e-c3dd-dfe77b9e353c"
      },
      "outputs": [
        {
          "output_type": "stream",
          "name": "stdout",
          "text": [
            "('daoa', 34, 'aoa', 4.09, 'gataw')\n"
          ]
        }
      ],
      "source": [
        "n = (\"daoa\", 34, \"aoa\", 4.09, \"gataw\")\n",
        "\n",
        "print(n)"
      ]
    },
    {
      "cell_type": "code",
      "source": [
        "n = (\"aoa\", \"daoa\", \"gataw\")\n",
        "print(n, type(n))\n",
        "\n",
        "a = (\"aoa\")\n",
        "print(a, type(a))"
      ],
      "metadata": {
        "colab": {
          "base_uri": "https://localhost:8080/"
        },
        "id": "xK7Ohva6JdwA",
        "outputId": "e4ca9587-fdc2-4e7f-c549-61a6c4b6f4e1"
      },
      "execution_count": null,
      "outputs": [
        {
          "output_type": "stream",
          "name": "stdout",
          "text": [
            "('aoa', 'daoa', 'gataw') <class 'tuple'>\n",
            "aoa <class 'str'>\n"
          ]
        }
      ]
    },
    {
      "cell_type": "code",
      "source": [
        "a = {9, 6, 10, 9}\n",
        "print(a, type(a))\n",
        "\n",
        "b = {\n",
        "    \"aoa\",\n",
        "    \"daoa\",\n",
        "    \"gataw\"\n",
        "}\n",
        "print(b, type(b))"
      ],
      "metadata": {
        "colab": {
          "base_uri": "https://localhost:8080/"
        },
        "id": "T4S3DHuWMDv3",
        "outputId": "92aadc57-48c8-4747-e5c8-c3322b072640"
      },
      "execution_count": null,
      "outputs": [
        {
          "output_type": "stream",
          "name": "stdout",
          "text": [
            "{9, 10, 6} <class 'set'>\n",
            "{'daoa', 'gataw', 'aoa'} <class 'set'>\n"
          ]
        }
      ]
    },
    {
      "cell_type": "code",
      "source": [
        "kampus = \"Untidar\"\n",
        "print(kampus, type(kampus))"
      ],
      "metadata": {
        "colab": {
          "base_uri": "https://localhost:8080/"
        },
        "id": "9RhvH63EPTCd",
        "outputId": "30db145e-4abd-4227-a112-8061b2801914"
      },
      "execution_count": null,
      "outputs": [
        {
          "output_type": "stream",
          "name": "stdout",
          "text": [
            "Untidar <class 'str'>\n"
          ]
        }
      ]
    },
    {
      "cell_type": "code",
      "source": [
        "kampus = \"Untidar\"\n",
        "kampus = set(kampus)\n",
        "print(kampus, type(kampus))"
      ],
      "metadata": {
        "colab": {
          "base_uri": "https://localhost:8080/"
        },
        "id": "NEoaDtUKOR_9",
        "outputId": "aaf1864f-fc57-461f-dd60-9ef10f519017"
      },
      "execution_count": null,
      "outputs": [
        {
          "output_type": "stream",
          "name": "stdout",
          "text": [
            "{'a', 'd', 'n', 'U', 't', 'r', 'i'} <class 'set'>\n"
          ]
        }
      ]
    },
    {
      "cell_type": "code",
      "source": [
        "n = (\"aoa\",)\n",
        "print(n, type(n))"
      ],
      "metadata": {
        "colab": {
          "base_uri": "https://localhost:8080/"
        },
        "id": "gu6tZjR2KOhv",
        "outputId": "25fc4950-09f3-4886-9b56-be852ba66f1e"
      },
      "execution_count": null,
      "outputs": [
        {
          "output_type": "stream",
          "name": "stdout",
          "text": [
            "('aoa',) <class 'tuple'>\n"
          ]
        }
      ]
    },
    {
      "cell_type": "code",
      "source": [
        "n = {\n",
        "    1: \"aoa\",\n",
        "    2: \"daoa\",\n",
        "    3: \"gataw\"\n",
        "}\n",
        "print(n, type(n))"
      ],
      "metadata": {
        "colab": {
          "base_uri": "https://localhost:8080/"
        },
        "id": "lVSH3Yl6Rlyn",
        "outputId": "39a528e2-fa23-4d7e-fc12-0937c25867e7"
      },
      "execution_count": null,
      "outputs": [
        {
          "output_type": "stream",
          "name": "stdout",
          "text": [
            "{1: 'aoa', 2: 'daoa', 3: 'gataw'} <class 'dict'>\n"
          ]
        }
      ]
    },
    {
      "cell_type": "code",
      "source": [
        "\n",
        "mahasiswa = {\n",
        "    \"nama\": \"Ahmad Syauqy Wardani\",\n",
        "    \"kelas\": \"Rombel 2\",\n",
        "    \"tanggal lahir\": \"Sekian\",\n",
        "    \"no hp\": \"Sekian\",\n",
        "    \"alamat\": \"Sekian\",\n",
        "    \"hobi\": [\"1. Bermain gitar\", \"2. Bermain game\", \"3. Tidur\"]\n",
        "}\n",
        "\n",
        "\n",
        "for key, value in mahasiswa.items():\n",
        "    if key == \"hobi\":\n",
        "        print(f\"{key}:\")\n",
        "        for hobi in value:\n",
        "            print(f\" {hobi}\")\n",
        "    else:\n",
        "        print(f\"{key}: {value}\")"
      ],
      "metadata": {
        "colab": {
          "base_uri": "https://localhost:8080/"
        },
        "id": "YXn7PJXGCfdx",
        "outputId": "637f8eb5-044a-4f9a-d4f0-6d1965f42bc5"
      },
      "execution_count": 2,
      "outputs": [
        {
          "output_type": "stream",
          "name": "stdout",
          "text": [
            "nama: Ahmad Syauqy Wardani\n",
            "kelas: Rombel 2\n",
            "tanggal lahir: Sekian\n",
            "no hp: Sekian\n",
            "alamat: Sekian\n",
            "hobi:\n",
            " 1. Bermain gitar\n",
            " 2. Bermain game\n",
            " 3. Tidur\n"
          ]
        }
      ]
    }
  ]
}