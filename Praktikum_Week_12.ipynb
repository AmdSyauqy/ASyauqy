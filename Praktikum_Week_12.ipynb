{
  "nbformat": 4,
  "nbformat_minor": 0,
  "metadata": {
    "colab": {
      "provenance": [],
      "authorship_tag": "ABX9TyPCqB7RKe/cOXi6OpKhdyIB",
      "include_colab_link": true
    },
    "kernelspec": {
      "name": "python3",
      "display_name": "Python 3"
    },
    "language_info": {
      "name": "python"
    }
  },
  "cells": [
    {
      "cell_type": "markdown",
      "metadata": {
        "id": "view-in-github",
        "colab_type": "text"
      },
      "source": [
        "<a href=\"https://colab.research.google.com/github/AmdSyauqy/ASyauqy/blob/main/Praktikum_Week_12.ipynb\" target=\"_parent\"><img src=\"https://colab.research.google.com/assets/colab-badge.svg\" alt=\"Open In Colab\"/></a>"
      ]
    },
    {
      "cell_type": "code",
      "execution_count": null,
      "metadata": {
        "colab": {
          "base_uri": "https://localhost:8080/"
        },
        "id": "G14uG5-kplGs",
        "outputId": "c5454a8a-5785-4556-dc1f-049fac20aabf"
      },
      "outputs": [
        {
          "output_type": "stream",
          "name": "stdout",
          "text": [
            "Input baris: -6\n",
            "Error: Jumlah baris harus positif atau nol.\n"
          ]
        }
      ],
      "source": [
        "try:\n",
        "    n = int(input(\"Input baris: \"))\n",
        "    if n < 0:\n",
        "        raise ValueError(\"Jumlah baris harus positif atau nol.\")\n",
        "\n",
        "    for i in range(n + 1):\n",
        "        awal = i\n",
        "        for j in range(i):\n",
        "            print(awal, end=\"\")\n",
        "            awal += i\n",
        "            if j != i-1:\n",
        "                print(\" \", end=\"\")\n",
        "        print()\n",
        "except ValueError as e:\n",
        "    print(f\"Error: {e}\")\n",
        "except Exception as e:\n",
        "    print(f\"Terjadi kesalahan tak terduga: {e}\")"
      ]
    },
    {
      "cell_type": "code",
      "source": [
        "try:\n",
        "    n = input(\"Masukan NPM Anda: \")\n",
        "    genap = 0\n",
        "    ganjil = 0\n",
        "\n",
        "    for digit in n:\n",
        "        if digit.isdigit():\n",
        "            angka = int(digit)\n",
        "            if angka % 2 == 0:\n",
        "                genap += 1\n",
        "            else:\n",
        "                ganjil += 1\n",
        "        else:\n",
        "            raise ValueError(\"Input harus berupa angka\")\n",
        "\n",
        "    print(f\"Jumlah bilangan genap :   {genap}\")\n",
        "    print(f\"Jumlah bilangan ganjil :   {ganjil}\")\n",
        "\n",
        "except ValueError as e:\n",
        "    print(f\"Error: {e}\")\n",
        "except Exception as e:\n",
        "    print(f\"Terjadi kesalahan tak terduga: {e}\")"
      ],
      "metadata": {
        "colab": {
          "base_uri": "https://localhost:8080/"
        },
        "id": "oyok-S0NbipA",
        "outputId": "895a01a9-c7bb-454a-e6d2-675f407ec1b7"
      },
      "execution_count": null,
      "outputs": [
        {
          "output_type": "stream",
          "name": "stdout",
          "text": [
            "Masukan NPM Anda: fdsg\n",
            "Error: Input harus berupa angka\n"
          ]
        }
      ]
    },
    {
      "cell_type": "code",
      "source": [
        "def lingkaran():\n",
        "    phi = 3.14\n",
        "    try:\n",
        "        r = float(input(\"Masukkan jari-jari lingkaran: \"))\n",
        "        if not r:\n",
        "            raise ValueError(\"Input tidak boleh kosong\")\n",
        "        r = float(r)\n",
        "        if r <= 0:\n",
        "            raise ValueError(\"Jari-jari harus lebih besar dari 0\")\n",
        "        luas = phi * (r**2)\n",
        "        return luas\n",
        "    except ValueError as e:\n",
        "        print(f\"Error: {e}\")\n",
        "        return None\n",
        "\n",
        "def persegi():\n",
        "    try:\n",
        "        sisi = float(input(\"Masukkan panjang sisi persegi: \"))\n",
        "        if not sisi:\n",
        "            raise ValueError(\"Input tidak boleh kosong\")\n",
        "        if sisi <= 0:\n",
        "            raise ValueError(\"Panjang sisi harus lebih besar dari 0\")\n",
        "        luas = sisi * sisi\n",
        "        return luas\n",
        "    except ValueError as e:\n",
        "        print(f\"Error: {e}\")\n",
        "        return None\n",
        "\n",
        "def segitiga():\n",
        "    try:\n",
        "        alas = float(input(\"Masukkan panjang alas segitiga: \"))\n",
        "        tinggi = float(input(\"Masukkan tinggi segitiga: \"))\n",
        "        if not alas or not tinggi:\n",
        "            raise ValueError(\"Input tidak boleh kosong\")\n",
        "        if alas <= 0 or tinggi <= 0:\n",
        "            raise ValueError(\"Alas dan tinggi harus lebih besar dari 0\")\n",
        "        luas = 0.5 * alas * tinggi\n",
        "        return luas\n",
        "    except ValueError as e:\n",
        "        print(f\"Error: {e}\")\n",
        "        return None\n",
        "\n",
        "def menu():\n",
        "    print(\"Pilih bangun datar untuk menghitung luas:\")\n",
        "    print(\"1. Lingkaran\")\n",
        "    print(\"2. Persegi\")\n",
        "    print(\"3. Segitiga\")\n",
        "    print(\"4. Keluar\")\n",
        "\n",
        "while True:\n",
        "    menu()\n",
        "    pilihan = input(\"Masukkan pilihan (1/2/3/4): \")\n",
        "\n",
        "    if pilihan == '1':\n",
        "        luas = lingkaran()\n",
        "        if luas is not None:\n",
        "            print(f\"Luas Lingkaran: {luas}\")\n",
        "    elif pilihan == '2':\n",
        "        luas = persegi()\n",
        "        if luas is not None:\n",
        "            print(f\"Luas Persegi: {luas}\")\n",
        "    elif pilihan == '3':\n",
        "        luas = segitiga()\n",
        "        if luas is not None:\n",
        "            print(f\"Luas Segitiga: {luas}\")\n",
        "    elif pilihan == '4':\n",
        "        print(\"Terima kasih! Program dihentikan.\")\n",
        "        break\n",
        "    else:\n",
        "        print(\"Pilihan tidak valid. Silakan masukkan 1, 2, 3, atau 4.\"))"
      ],
      "metadata": {
        "id": "J6WIuvKEfAxv"
      },
      "execution_count": null,
      "outputs": []
    }
  ]
}